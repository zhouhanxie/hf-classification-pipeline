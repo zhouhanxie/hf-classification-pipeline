{
 "cells": [
  {
   "cell_type": "markdown",
   "id": "611dfa32",
   "metadata": {},
   "source": [
    "### Basic Usage"
   ]
  },
  {
   "cell_type": "code",
   "execution_count": 1,
   "id": "2c580477",
   "metadata": {
    "scrolled": true
   },
   "outputs": [
    {
     "name": "stderr",
     "output_type": "stream",
     "text": [
      "/home/zhouhang/miniconda3/envs/transformers/lib/python3.8/site-packages/tqdm/auto.py:22: TqdmWarning: IProgress not found. Please update jupyter and ipywidgets. See https://ipywidgets.readthedocs.io/en/stable/user_install.html\n",
      "  from .autonotebook import tqdm as notebook_tqdm\n"
     ]
    }
   ],
   "source": [
    "from classification_wrapper import ClassificationWrapper\n",
    "classification_wrapper = ClassificationWrapper('./checkpoints')"
   ]
  },
  {
   "cell_type": "code",
   "execution_count": 20,
   "id": "d08ca00e",
   "metadata": {},
   "outputs": [
    {
     "name": "stderr",
     "output_type": "stream",
     "text": [
      "100%|██████████| 1/1 [00:00<00:00, 127.59it/s]\n"
     ]
    },
    {
     "data": {
      "text/plain": [
       "[{'input': 'immigrants should be admitted on a rigorous skill based system',\n",
       "  'predicted': 'right'},\n",
       " {'input': 'public health is great!', 'predicted': 'left'}]"
      ]
     },
     "execution_count": 20,
     "metadata": {},
     "output_type": "execute_result"
    }
   ],
   "source": [
    "classification_wrapper(\n",
    "    ['immigrants should be admitted on a rigorous skill based system', 'public health is great!'], \n",
    "    on_error='echo'\n",
    "    )"
   ]
  },
  {
   "cell_type": "code",
   "execution_count": null,
   "id": "5b26116d",
   "metadata": {},
   "outputs": [],
   "source": []
  }
 ],
 "metadata": {
  "kernelspec": {
   "display_name": "Python 3",
   "language": "python",
   "name": "python3"
  },
  "language_info": {
   "codemirror_mode": {
    "name": "ipython",
    "version": 3
   },
   "file_extension": ".py",
   "mimetype": "text/x-python",
   "name": "python",
   "nbconvert_exporter": "python",
   "pygments_lexer": "ipython3",
   "version": "3.8.16"
  }
 },
 "nbformat": 4,
 "nbformat_minor": 5
}
